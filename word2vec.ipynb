{
  "nbformat": 4,
  "nbformat_minor": 0,
  "metadata": {
    "colab": {
      "provenance": []
    },
    "kernelspec": {
      "name": "python3",
      "display_name": "Python 3"
    },
    "language_info": {
      "name": "python"
    }
  },
  "cells": [
    {
      "cell_type": "code",
      "execution_count": 1,
      "metadata": {
        "id": "NFD5sk0HmPhw"
      },
      "outputs": [],
      "source": [
        " import gensim\n",
        " import gensim.downloader as api"
      ]
    },
    {
      "cell_type": "markdown",
      "source": [
        "The Gensim model Word2VecKeyedVectors is a part of the Gensim library, which is a popular Python library for natural language processing (NLP) tasks."
      ],
      "metadata": {
        "id": "c5kOBjp_p1Ah"
      }
    },
    {
      "cell_type": "code",
      "source": [
        "from gensim.models import Word2Vec, KeyedVectors"
      ],
      "metadata": {
        "id": "tq0AgfMSpcd4"
      },
      "execution_count": 2,
      "outputs": []
    },
    {
      "cell_type": "markdown",
      "source": [
        "Word2Vec is a technique used for word embedding, which means representing words as dense vectors in a continuous vector space. These vectors capture semantic similarities between words based on their context in a large corpus of text. The Word2VecKeyedVectors class specifically represents pre-trained word vectors that have been trained using the Word2Vec algorithm and stored in a keyed format."
      ],
      "metadata": {
        "id": "J87pFlz2p68L"
      }
    },
    {
      "cell_type": "code",
      "source": [
        "!pip install wget"
      ],
      "metadata": {
        "colab": {
          "base_uri": "https://localhost:8080/"
        },
        "id": "_W2BZosUp0Tt",
        "outputId": "d1384f40-3fe8-495d-f53b-616a8fbe34fa"
      },
      "execution_count": 3,
      "outputs": [
        {
          "output_type": "stream",
          "name": "stdout",
          "text": [
            "Requirement already satisfied: wget in /usr/local/lib/python3.10/dist-packages (3.2)\n"
          ]
        }
      ]
    },
    {
      "cell_type": "code",
      "source": [
        "from gensim.models import KeyedVectors\n",
        "\n",
        "# Download the FastText word vectors (300-dimensional vectors trained on Common Crawl and Wikipedia)\n",
        "!wget -c \"https://dl.fbaipublicfiles.com/fasttext/vectors-crawl/cc.en.300.vec.gz\"\n",
        "\n",
        "# Load the FastText word vectors into a Gensim KeyedVectors model\n",
        "model = KeyedVectors.load_word2vec_format(\"cc.en.300.vec.gz\", binary=False, limit=500000)\n"
      ],
      "metadata": {
        "colab": {
          "base_uri": "https://localhost:8080/"
        },
        "id": "skAzmUjCqruW",
        "outputId": "166c0a26-c8ed-4d8b-b8c7-4954a7afb6d2"
      },
      "execution_count": 14,
      "outputs": [
        {
          "output_type": "stream",
          "name": "stdout",
          "text": [
            "--2024-04-30 07:08:43--  https://dl.fbaipublicfiles.com/fasttext/vectors-crawl/cc.en.300.vec.gz\n",
            "Resolving dl.fbaipublicfiles.com (dl.fbaipublicfiles.com)... 13.35.166.125, 13.35.166.84, 13.35.166.43, ...\n",
            "Connecting to dl.fbaipublicfiles.com (dl.fbaipublicfiles.com)|13.35.166.125|:443... connected.\n",
            "HTTP request sent, awaiting response... 200 OK\n",
            "Length: 1325960915 (1.2G) [binary/octet-stream]\n",
            "Saving to: ‘cc.en.300.vec.gz’\n",
            "\n",
            "cc.en.300.vec.gz    100%[===================>]   1.23G   106MB/s    in 12s     \n",
            "\n",
            "2024-04-30 07:08:55 (107 MB/s) - ‘cc.en.300.vec.gz’ saved [1325960915/1325960915]\n",
            "\n"
          ]
        }
      ]
    },
    {
      "cell_type": "code",
      "source": [
        "model"
      ],
      "metadata": {
        "id": "yNnDybJUzTb8",
        "outputId": "6f786f7d-47eb-4015-9894-38ea1f80b608",
        "colab": {
          "base_uri": "https://localhost:8080/"
        }
      },
      "execution_count": 15,
      "outputs": [
        {
          "output_type": "execute_result",
          "data": {
            "text/plain": [
              "<gensim.models.keyedvectors.KeyedVectors at 0x7da1c656f370>"
            ]
          },
          "metadata": {},
          "execution_count": 15
        }
      ]
    },
    {
      "cell_type": "code",
      "source": [
        "model[\"cricket\"]"
      ],
      "metadata": {
        "id": "MTwd8Xvb2ElG",
        "outputId": "3d9fd8e6-c1e1-4364-c858-0dbf09f848c4",
        "colab": {
          "base_uri": "https://localhost:8080/"
        }
      },
      "execution_count": 16,
      "outputs": [
        {
          "output_type": "execute_result",
          "data": {
            "text/plain": [
              "array([ 1.510e-02, -5.200e-03, -5.380e-02,  3.480e-02, -4.570e-02,\n",
              "       -1.221e-01,  7.720e-02, -2.940e-02, -2.900e-02, -1.130e-01,\n",
              "       -2.640e-02,  1.615e-01, -4.020e-02, -3.430e-02, -4.980e-02,\n",
              "        3.990e-02, -8.870e-02, -4.000e-03,  1.930e-02,  1.730e-02,\n",
              "       -3.420e-02,  1.188e-01,  1.060e-02, -5.300e-03, -2.010e-02,\n",
              "       -2.310e-02, -4.360e-02,  2.160e-02,  3.990e-02,  1.799e-01,\n",
              "        1.890e-02, -4.110e-02, -9.460e-02,  1.540e-02,  8.170e-02,\n",
              "       -8.570e-02, -1.530e-02,  2.260e-02, -4.060e-02,  2.720e-02,\n",
              "        2.800e-03, -2.300e-03, -1.500e-03, -5.350e-02, -9.740e-02,\n",
              "       -4.270e-02, -1.502e-01, -1.340e-02, -3.720e-02,  1.400e-03,\n",
              "       -4.010e-02, -1.540e-02,  5.620e-02, -4.000e-03, -6.830e-02,\n",
              "       -6.800e-03,  1.148e-01, -8.640e-02, -2.560e-02,  1.294e-01,\n",
              "        4.980e-02,  2.800e-03,  8.470e-02,  3.990e-02, -3.330e-02,\n",
              "        2.210e-02,  8.350e-02,  7.490e-02,  6.900e-03,  1.900e-02,\n",
              "       -2.550e-02, -9.970e-02,  1.450e-01, -3.740e-02, -1.230e-02,\n",
              "       -3.900e-02,  1.100e-03,  7.060e-02, -3.660e-02,  1.000e-04,\n",
              "       -6.950e-02,  6.560e-02, -3.820e-02,  1.630e-02,  1.010e-02,\n",
              "       -5.000e-04, -6.170e-02,  1.600e-02,  3.090e-02, -6.000e-04,\n",
              "       -2.600e-02,  5.450e-02, -3.500e-02,  3.110e-02,  7.500e-03,\n",
              "        4.520e-02, -3.250e-02,  1.360e-01,  3.670e-02, -8.500e-03,\n",
              "        1.840e-02,  4.850e-02,  3.300e-03, -4.690e-02,  3.010e-02,\n",
              "        8.910e-02, -8.000e-03, -2.850e-02, -1.340e-02, -6.350e-02,\n",
              "        3.700e-02, -2.970e-02, -5.860e-02,  3.650e-02, -1.150e-01,\n",
              "       -1.450e-02,  9.680e-02,  4.040e-02, -8.310e-02,  3.130e-02,\n",
              "       -1.052e-01, -4.000e-02,  6.700e-03, -2.680e-02, -8.260e-02,\n",
              "       -1.200e-02,  1.800e-03,  5.510e-02, -8.360e-02, -1.290e-02,\n",
              "       -5.210e-02,  1.255e-01,  4.980e-02,  3.600e-03,  4.460e-02,\n",
              "       -1.453e-01,  7.710e-02,  3.240e-02,  1.900e-02,  3.490e-02,\n",
              "       -6.780e-02,  1.460e-02,  6.780e-02, -7.280e-02,  1.720e-02,\n",
              "       -3.560e-02, -9.580e-02, -1.350e-02,  6.300e-03,  2.680e-02,\n",
              "       -1.670e-02, -5.500e-02,  2.170e-02, -9.110e-02, -1.000e-03,\n",
              "        3.530e-02,  6.420e-02,  1.500e-03,  2.350e-02,  3.310e-02,\n",
              "       -8.290e-02,  1.180e-02,  6.400e-02, -1.045e-01,  3.170e-02,\n",
              "       -6.930e-02, -1.210e-02, -6.550e-02,  4.330e-02,  5.210e-02,\n",
              "       -7.040e-02,  1.376e-01, -1.670e-02, -2.100e-02, -4.300e-02,\n",
              "       -4.030e-02, -2.790e-02,  3.900e-02,  9.210e-02,  2.580e-02,\n",
              "       -2.280e-02, -2.990e-02, -3.710e-02, -3.100e-02,  1.590e-02,\n",
              "       -5.400e-02,  1.780e-02, -6.460e-02,  1.780e-02,  9.700e-03,\n",
              "        2.780e-02, -8.550e-02,  3.500e-03, -9.200e-03, -6.370e-02,\n",
              "       -5.370e-02, -2.320e-02,  1.620e-02, -1.010e-02, -1.940e-02,\n",
              "       -4.460e-02, -2.440e-02, -9.600e-03,  1.960e-02,  3.160e-02,\n",
              "       -6.160e-02,  2.800e-02,  5.160e-02, -7.510e-02,  4.920e-02,\n",
              "        8.900e-03,  2.430e-02, -2.360e-02, -2.060e-02,  2.100e-03,\n",
              "       -4.950e-02, -6.810e-02, -7.750e-02,  1.590e-02,  6.360e-02,\n",
              "        4.000e-02, -1.630e-02,  9.190e-02, -2.410e-02,  3.100e-02,\n",
              "       -2.740e-02, -4.920e-02, -1.413e-01, -7.900e-03,  2.930e-02,\n",
              "       -5.950e-02,  3.110e-02,  6.000e-04,  3.530e-02, -3.130e-02,\n",
              "        2.090e-02, -3.700e-03,  2.800e-02,  3.570e-02,  4.800e-02,\n",
              "       -3.410e-02,  1.890e-02, -9.270e-02, -3.800e-02,  5.230e-02,\n",
              "       -3.820e-02,  1.410e-02,  5.080e-02,  7.020e-02, -1.300e-03,\n",
              "        3.280e-02, -1.100e-03, -2.860e-02,  4.220e-02,  7.980e-02,\n",
              "       -8.000e-02,  1.550e-02,  1.333e-01,  5.350e-02, -5.880e-02,\n",
              "       -9.740e-02, -1.920e-02, -8.040e-02,  4.460e-02, -5.020e-02,\n",
              "       -3.200e-03,  1.743e-01,  7.700e-03, -1.120e-01, -2.370e-02,\n",
              "       -7.400e-03, -6.820e-02, -3.120e-02,  2.900e-03, -6.150e-02,\n",
              "       -5.600e-03, -6.320e-02,  1.070e-02, -3.070e-02, -2.880e-02,\n",
              "       -1.580e-02,  2.590e-02, -5.840e-02,  1.150e-02, -1.810e-02,\n",
              "        4.000e-04,  7.890e-02,  3.910e-02, -2.094e-01, -2.880e-02,\n",
              "       -4.970e-02, -5.230e-02, -1.130e-02,  2.750e-02, -1.330e-02,\n",
              "       -3.140e-02, -8.600e-03,  8.600e-02, -4.010e-02, -5.370e-02],\n",
              "      dtype=float32)"
            ]
          },
          "metadata": {},
          "execution_count": 16
        }
      ]
    },
    {
      "cell_type": "code",
      "source": [
        "model[\"King\"]"
      ],
      "metadata": {
        "id": "jk5brPeH2Mlh",
        "outputId": "3ea2b601-1062-412c-afdc-753ca7156097",
        "colab": {
          "base_uri": "https://localhost:8080/"
        }
      },
      "execution_count": 17,
      "outputs": [
        {
          "output_type": "execute_result",
          "data": {
            "text/plain": [
              "array([-0.0892,  0.0395,  0.0448, -0.0021,  0.0367,  0.0526, -0.1426,\n",
              "       -0.0045, -0.0738, -0.0062, -0.0702, -0.11  , -0.2031,  0.0226,\n",
              "       -0.1347,  0.0482,  0.0522, -0.0148, -0.0621,  0.0619,  0.0787,\n",
              "        0.0714, -0.0942,  0.0673, -0.0274,  0.0922,  0.1418,  0.0522,\n",
              "        0.0431,  0.0926, -0.0436,  0.0796, -0.0821, -0.0266,  0.0046,\n",
              "       -0.0784, -0.0216, -0.0192, -0.1184, -0.0178,  0.0469,  0.025 ,\n",
              "       -0.1695, -0.0596,  0.0043,  0.0255, -0.1403, -0.0253, -0.0047,\n",
              "       -0.0866, -0.0546, -0.0195, -0.1664, -0.1124, -0.0448, -0.1537,\n",
              "       -0.0255,  0.1143,  0.148 ,  0.0628,  0.0354,  0.0912, -0.0046,\n",
              "        0.2887, -0.1224,  0.1017, -0.0692,  0.0347,  0.118 ,  0.1029,\n",
              "        0.1262,  0.1357,  0.0055, -0.0634, -0.1396,  0.0566, -0.0675,\n",
              "       -0.0625,  0.0834,  0.0315,  0.0073,  0.0327,  0.0182, -0.002 ,\n",
              "       -0.0043, -0.0101, -0.0192, -0.1019,  0.0464,  0.054 , -0.0222,\n",
              "        0.1534, -0.0753,  0.0124,  0.0398,  0.0501,  0.0405, -0.0839,\n",
              "        0.1569, -0.0159,  0.0411,  0.0018, -0.0733,  0.0425, -0.0709,\n",
              "       -0.1168,  0.0447,  0.089 ,  0.0107, -0.0468, -0.0438, -0.0961,\n",
              "        0.0372,  0.0406, -0.1163,  0.0372, -0.0741,  0.0225,  0.0065,\n",
              "       -0.0743,  0.034 , -0.071 ,  0.0133,  0.1477,  0.0978,  0.0442,\n",
              "       -0.0815,  0.083 , -0.0935,  0.0129,  0.0063,  0.0077, -0.0187,\n",
              "        0.0348, -0.1708, -0.0898,  0.0053,  0.1834,  0.0905,  0.0022,\n",
              "       -0.0663, -0.0932,  0.0667, -0.0619, -0.034 ,  0.0183, -0.209 ,\n",
              "       -0.1312,  0.0886, -0.1056, -0.0085,  0.0142, -0.1504,  0.1358,\n",
              "       -0.1093, -0.0228, -0.1824,  0.1001, -0.0184,  0.0304,  0.0152,\n",
              "        0.0575,  0.0148, -0.0231,  0.003 , -0.1181,  0.0824,  0.1102,\n",
              "        0.1458,  0.1061,  0.0714,  0.0621,  0.0291,  0.1396,  0.0121,\n",
              "       -0.0069, -0.0434,  0.0076, -0.0146,  0.0799,  0.0434,  0.1398,\n",
              "       -0.159 , -0.1966, -0.0924,  0.0037, -0.0529, -0.1019, -0.0275,\n",
              "        0.0417,  0.1763,  0.0455,  0.022 , -0.0475,  0.0157,  0.0177,\n",
              "        0.0764, -0.046 , -0.1802,  0.0954, -0.0758,  0.0594, -0.0793,\n",
              "        0.0048,  0.066 , -0.1318,  0.1416,  0.1402,  0.0693,  0.0518,\n",
              "        0.056 ,  0.0885, -0.113 , -0.0022, -0.1062, -0.0259, -0.0535,\n",
              "        0.066 , -0.0238,  0.0678,  0.0151, -0.0051, -0.0027,  0.0078,\n",
              "        0.0331, -0.2096,  0.0402, -0.037 , -0.0174, -0.2525, -0.1121,\n",
              "       -0.0446, -0.1277,  0.0204,  0.0486,  0.0903,  0.0877,  0.0702,\n",
              "        0.1293,  0.0076, -0.0402, -0.1148,  0.0122, -0.0786,  0.1547,\n",
              "       -0.0304,  0.151 , -0.0528, -0.0574, -0.0452,  0.0761, -0.1995,\n",
              "       -0.0822,  0.1248,  0.0751,  0.077 , -0.0767, -0.1312, -0.0907,\n",
              "       -0.0474, -0.0692, -0.1517, -0.1341,  0.0891,  0.0109, -0.0155,\n",
              "       -0.0725,  0.0798,  0.1297,  0.017 , -0.0446,  0.1308, -0.0934,\n",
              "       -0.0703, -0.0091, -0.1057, -0.0111, -0.1375, -0.0424,  0.0278,\n",
              "        0.0314,  0.1343, -0.0128, -0.0392,  0.0068, -0.0067, -0.017 ,\n",
              "        0.109 , -0.0258, -0.0461, -0.0376, -0.0542,  0.1013, -0.0501,\n",
              "        0.0817,  0.1088, -0.156 ,  0.1637, -0.0274,  0.0441],\n",
              "      dtype=float32)"
            ]
          },
          "metadata": {},
          "execution_count": 17
        }
      ]
    },
    {
      "cell_type": "code",
      "source": [
        "model.most_similar(\"king\")"
      ],
      "metadata": {
        "id": "Clyyoarb2ULG",
        "outputId": "9a9ec997-d1da-4d79-9e1a-d08c273ac03d",
        "colab": {
          "base_uri": "https://localhost:8080/"
        }
      },
      "execution_count": 18,
      "outputs": [
        {
          "output_type": "execute_result",
          "data": {
            "text/plain": [
              "[('kings', 0.7550534605979919),\n",
              " ('queen', 0.7069182991981506),\n",
              " ('king.', 0.6811478137969971),\n",
              " ('King', 0.6591336727142334),\n",
              " ('prince', 0.6495301723480225),\n",
              " ('monarch', 0.618451714515686),\n",
              " ('kingly', 0.6069853901863098),\n",
              " ('uncrowned', 0.5915474891662598),\n",
              " ('royal', 0.583034098148346),\n",
              " ('throne', 0.5727861523628235)]"
            ]
          },
          "metadata": {},
          "execution_count": 18
        }
      ]
    },
    {
      "cell_type": "code",
      "source": [
        "model.most_similar(\"travel\")"
      ],
      "metadata": {
        "id": "_cCZ-Hy02YVD",
        "outputId": "a90eb4fe-738d-4308-aa7c-d2b0a6639aba",
        "colab": {
          "base_uri": "https://localhost:8080/"
        }
      },
      "execution_count": 19,
      "outputs": [
        {
          "output_type": "execute_result",
          "data": {
            "text/plain": [
              "[('traveling', 0.7237949371337891),\n",
              " ('travelling', 0.7064374089241028),\n",
              " ('Travel', 0.641137957572937),\n",
              " ('travels', 0.6378124356269836),\n",
              " ('trave', 0.6306140422821045),\n",
              " ('travel.', 0.6154575347900391),\n",
              " ('travel.The', 0.5902835130691528),\n",
              " ('traveler', 0.582436203956604),\n",
              " ('trips', 0.5698784589767456),\n",
              " ('trip', 0.565461277961731)]"
            ]
          },
          "metadata": {},
          "execution_count": 19
        }
      ]
    },
    {
      "cell_type": "code",
      "source": [
        "model.similarity(\"group\",\"travel\")"
      ],
      "metadata": {
        "id": "aIEdRAyL2ciK",
        "outputId": "c43ec9c6-b093-4307-b405-ec8c9b1d7841",
        "colab": {
          "base_uri": "https://localhost:8080/"
        }
      },
      "execution_count": 20,
      "outputs": [
        {
          "output_type": "execute_result",
          "data": {
            "text/plain": [
              "0.14702764"
            ]
          },
          "metadata": {},
          "execution_count": 20
        }
      ]
    },
    {
      "cell_type": "code",
      "source": [
        "model.similarity(\"python\",\"java\")"
      ],
      "metadata": {
        "id": "SJMlnyDK2iq9",
        "outputId": "d771e6a0-2c65-4cde-abc8-51f37e6b5c05",
        "colab": {
          "base_uri": "https://localhost:8080/"
        }
      },
      "execution_count": 21,
      "outputs": [
        {
          "output_type": "execute_result",
          "data": {
            "text/plain": [
              "0.5390288"
            ]
          },
          "metadata": {},
          "execution_count": 21
        }
      ]
    },
    {
      "cell_type": "code",
      "source": [
        "model.doesnt_match([\"PHP\",\"JAVA\",\"DOG\",\"C++\"])"
      ],
      "metadata": {
        "id": "EkOxkCz72m_a",
        "outputId": "ddfc03b9-74cb-4a1f-979c-638e9f14f041",
        "colab": {
          "base_uri": "https://localhost:8080/",
          "height": 73
        }
      },
      "execution_count": 22,
      "outputs": [
        {
          "output_type": "stream",
          "name": "stderr",
          "text": [
            "WARNING:gensim.models.keyedvectors:vectors for words {'C++'} are not present in the model, ignoring these words\n"
          ]
        },
        {
          "output_type": "execute_result",
          "data": {
            "text/plain": [
              "'DOG'"
            ],
            "application/vnd.google.colaboratory.intrinsic+json": {
              "type": "string"
            }
          },
          "metadata": {},
          "execution_count": 22
        }
      ]
    },
    {
      "cell_type": "code",
      "source": [],
      "metadata": {
        "id": "LLYAvzq02qP9"
      },
      "execution_count": null,
      "outputs": []
    }
  ]
}